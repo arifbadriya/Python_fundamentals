{
 "cells": [
  {
   "cell_type": "code",
   "execution_count": null,
   "metadata": {},
   "outputs": [],
   "source": [
    "Introduction to list Data type:-"
   ]
  },
  {
   "cell_type": "code",
   "execution_count": null,
   "metadata": {},
   "outputs": [],
   "source": [
    "   A list is a collection of items deined in a particular order."
   ]
  },
  {
   "cell_type": "code",
   "execution_count": null,
   "metadata": {},
   "outputs": [],
   "source": [
    "Classifications: It is classified as a mutable data type."
   ]
  },
  {
   "cell_type": "code",
   "execution_count": null,
   "metadata": {},
   "outputs": [],
   "source": [
    "How to define the list ....? ===> []"
   ]
  },
  {
   "cell_type": "code",
   "execution_count": 1,
   "metadata": {},
   "outputs": [],
   "source": [
    "students = ['Geetha', 'Jeevitha','ramesh','kiran','divya','rohan','arif']"
   ]
  },
  {
   "cell_type": "code",
   "execution_count": 2,
   "metadata": {},
   "outputs": [
    {
     "name": "stdout",
     "output_type": "stream",
     "text": [
      "['Geetha', 'Jeevitha', 'ramesh', 'kiran', 'divya', 'rohan', 'arif']\n"
     ]
    }
   ],
   "source": [
    "print(students)"
   ]
  },
  {
   "cell_type": "code",
   "execution_count": 3,
   "metadata": {},
   "outputs": [
    {
     "data": {
      "text/plain": [
       "list"
      ]
     },
     "execution_count": 3,
     "metadata": {},
     "output_type": "execute_result"
    }
   ],
   "source": [
    "type(students)"
   ]
  },
  {
   "cell_type": "code",
   "execution_count": null,
   "metadata": {},
   "outputs": [],
   "source": [
    "How to access the elements from the list:"
   ]
  },
  {
   "cell_type": "code",
   "execution_count": null,
   "metadata": {},
   "outputs": [],
   "source": [
    "Introduction to indexing: ===> 0,1,2,3,....!"
   ]
  },
  {
   "cell_type": "code",
   "execution_count": 4,
   "metadata": {},
   "outputs": [
    {
     "name": "stdout",
     "output_type": "stream",
     "text": [
      "Geetha\n"
     ]
    }
   ],
   "source": [
    "print(students[0])"
   ]
  },
  {
   "cell_type": "code",
   "execution_count": 5,
   "metadata": {},
   "outputs": [
    {
     "name": "stdout",
     "output_type": "stream",
     "text": [
      "Jeevitha\n"
     ]
    }
   ],
   "source": [
    "print(students[1])"
   ]
  },
  {
   "cell_type": "code",
   "execution_count": null,
   "metadata": {},
   "outputs": [],
   "source": [
    "# req: Want to appreciate above studens."
   ]
  },
  {
   "cell_type": "code",
   "execution_count": 8,
   "metadata": {},
   "outputs": [],
   "source": [
    "message = f\"Keep up the good work, {students[0].title()}\""
   ]
  },
  {
   "cell_type": "code",
   "execution_count": 9,
   "metadata": {},
   "outputs": [
    {
     "name": "stdout",
     "output_type": "stream",
     "text": [
      "Keep up the good work, Geetha\n"
     ]
    }
   ],
   "source": [
    "print(message)"
   ]
  },
  {
   "cell_type": "code",
   "execution_count": 13,
   "metadata": {},
   "outputs": [],
   "source": [
    "message = f\"Keep up the good work, {students[1].title()}\""
   ]
  },
  {
   "cell_type": "code",
   "execution_count": 14,
   "metadata": {},
   "outputs": [
    {
     "name": "stdout",
     "output_type": "stream",
     "text": [
      "Keep up the good work, Jeevitha\n"
     ]
    }
   ],
   "source": [
    "print(message)"
   ]
  },
  {
   "cell_type": "code",
   "execution_count": null,
   "metadata": {},
   "outputs": [],
   "source": []
  },
  {
   "cell_type": "code",
   "execution_count": null,
   "metadata": {},
   "outputs": [],
   "source": [
    "Introduction to for loops:- Understanding looping statements."
   ]
  },
  {
   "cell_type": "code",
   "execution_count": null,
   "metadata": {},
   "outputs": [],
   "source": [
    "  # General syntax : for tempvar in mainvar:\n",
    "                        print(tempvar)\n",
    "        \n",
    "        Note: tempvar can be any name you want to define."
   ]
  },
  {
   "cell_type": "code",
   "execution_count": 16,
   "metadata": {},
   "outputs": [
    {
     "name": "stdout",
     "output_type": "stream",
     "text": [
      "Keep up the good work, Geetha\n",
      "Keep up the good work, Jeevitha\n",
      "Keep up the good work, Ramesh\n",
      "Keep up the good work, Kiran\n",
      "Keep up the good work, Divya\n",
      "Keep up the good work, Rohan\n",
      "Keep up the good work, Arif\n"
     ]
    }
   ],
   "source": [
    "for x in students:\n",
    "        print(f\"Keep up the good work, {x.title()}\")"
   ]
  },
  {
   "cell_type": "code",
   "execution_count": null,
   "metadata": {},
   "outputs": [],
   "source": [
    "#nEnhancement of code...!"
   ]
  },
  {
   "cell_type": "code",
   "execution_count": 17,
   "metadata": {},
   "outputs": [
    {
     "name": "stdout",
     "output_type": "stream",
     "text": [
      "Keep up the good work, Geetha\n",
      "i will be looking forward to receive the practice files of today,Geetha\n",
      "Keep up the good work, Jeevitha\n",
      "i will be looking forward to receive the practice files of today,Jeevitha\n",
      "Keep up the good work, Ramesh\n",
      "i will be looking forward to receive the practice files of today,Ramesh\n",
      "Keep up the good work, Kiran\n",
      "i will be looking forward to receive the practice files of today,Kiran\n",
      "Keep up the good work, Divya\n",
      "i will be looking forward to receive the practice files of today,Divya\n",
      "Keep up the good work, Rohan\n",
      "i will be looking forward to receive the practice files of today,Rohan\n",
      "Keep up the good work, Arif\n",
      "i will be looking forward to receive the practice files of today,Arif\n"
     ]
    }
   ],
   "source": [
    "for x in students:\n",
    "        print(f\"Keep up the good work, {x.title()}\")\n",
    "        print(f\"i will be looking forward to receive the practice files of today,{x.title()}\")"
   ]
  },
  {
   "cell_type": "code",
   "execution_count": null,
   "metadata": {},
   "outputs": [],
   "source": [
    "# Improvisation of codes:"
   ]
  },
  {
   "cell_type": "code",
   "execution_count": 18,
   "metadata": {},
   "outputs": [
    {
     "name": "stdout",
     "output_type": "stream",
     "text": [
      "Keep up the good work, Geetha\n",
      "i will be looking forward to receive the practice files of today,Geetha\n",
      "\n",
      "Keep up the good work, Jeevitha\n",
      "i will be looking forward to receive the practice files of today,Jeevitha\n",
      "\n",
      "Keep up the good work, Ramesh\n",
      "i will be looking forward to receive the practice files of today,Ramesh\n",
      "\n",
      "Keep up the good work, Kiran\n",
      "i will be looking forward to receive the practice files of today,Kiran\n",
      "\n",
      "Keep up the good work, Divya\n",
      "i will be looking forward to receive the practice files of today,Divya\n",
      "\n",
      "Keep up the good work, Rohan\n",
      "i will be looking forward to receive the practice files of today,Rohan\n",
      "\n",
      "Keep up the good work, Arif\n",
      "i will be looking forward to receive the practice files of today,Arif\n",
      "\n"
     ]
    }
   ],
   "source": [
    "for x in students:\n",
    "        print(f\"Keep up the good work, {x.title()}\")\n",
    "        print(f\"i will be looking forward to receive the practice files of today,{x.title()}\\n\")"
   ]
  },
  {
   "cell_type": "code",
   "execution_count": null,
   "metadata": {},
   "outputs": [],
   "source": [
    "# Writing the message outside of the loop. It executes only once."
   ]
  },
  {
   "cell_type": "code",
   "execution_count": 20,
   "metadata": {},
   "outputs": [
    {
     "name": "stdout",
     "output_type": "stream",
     "text": [
      "Keep up the good work, Geetha\n",
      "i will be looking forward to receive the practice files of today,Geetha\n",
      "\n",
      "Keep up the good work, Jeevitha\n",
      "i will be looking forward to receive the practice files of today,Jeevitha\n",
      "\n",
      "Keep up the good work, Ramesh\n",
      "i will be looking forward to receive the practice files of today,Ramesh\n",
      "\n",
      "Keep up the good work, Kiran\n",
      "i will be looking forward to receive the practice files of today,Kiran\n",
      "\n",
      "Keep up the good work, Divya\n",
      "i will be looking forward to receive the practice files of today,Divya\n",
      "\n",
      "Keep up the good work, Rohan\n",
      "i will be looking forward to receive the practice files of today,Rohan\n",
      "\n",
      "Keep up the good work, Arif\n",
      "i will be looking forward to receive the practice files of today,Arif\n",
      "\n",
      "@@@ Thank you all showing interest in learning Python @@@\n"
     ]
    }
   ],
   "source": [
    "for x in students:\n",
    "        print(f\"Keep up the good work, {x.title()}\")\n",
    "        print(f\"i will be looking forward to receive the practice files of today,{x.title()}\\n\")\n",
    "print(\"@@@ Thank you all showing interest in learning Python @@@\")"
   ]
  },
  {
   "cell_type": "code",
   "execution_count": null,
   "metadata": {},
   "outputs": [],
   "source": []
  },
  {
   "cell_type": "code",
   "execution_count": null,
   "metadata": {},
   "outputs": [],
   "source": [
    "Introduction to range function:-"
   ]
  },
  {
   "cell_type": "code",
   "execution_count": null,
   "metadata": {},
   "outputs": [],
   "source": [
    "   # General syntax : range(start, stop, stepcount)"
   ]
  },
  {
   "cell_type": "code",
   "execution_count": null,
   "metadata": {},
   "outputs": [],
   "source": [
    "#req: I want to print the numbers till 20."
   ]
  },
  {
   "cell_type": "code",
   "execution_count": 25,
   "metadata": {},
   "outputs": [],
   "source": [
    "numbers = list(range(0,20))"
   ]
  },
  {
   "cell_type": "code",
   "execution_count": 26,
   "metadata": {},
   "outputs": [
    {
     "name": "stdout",
     "output_type": "stream",
     "text": [
      "[0, 1, 2, 3, 4, 5, 6, 7, 8, 9, 10, 11, 12, 13, 14, 15, 16, 17, 18, 19]\n"
     ]
    }
   ],
   "source": [
    "print(numbers)"
   ]
  },
  {
   "cell_type": "code",
   "execution_count": null,
   "metadata": {},
   "outputs": [],
   "source": [
    "Note: Last value is always exclusive."
   ]
  },
  {
   "cell_type": "code",
   "execution_count": null,
   "metadata": {},
   "outputs": [],
   "source": [
    "# I want to print list of even numbers till 30:"
   ]
  },
  {
   "cell_type": "code",
   "execution_count": 32,
   "metadata": {},
   "outputs": [],
   "source": [
    "even_numbers = list(range(2,30,2))"
   ]
  },
  {
   "cell_type": "code",
   "execution_count": 33,
   "metadata": {},
   "outputs": [
    {
     "name": "stdout",
     "output_type": "stream",
     "text": [
      "[2, 4, 6, 8, 10, 12, 14, 16, 18, 20, 22, 24, 26, 28]\n"
     ]
    }
   ],
   "source": [
    "print(even_numbers)"
   ]
  },
  {
   "cell_type": "code",
   "execution_count": null,
   "metadata": {},
   "outputs": [],
   "source": [
    "# I want to print list of odd numbers till 30:"
   ]
  },
  {
   "cell_type": "code",
   "execution_count": 29,
   "metadata": {},
   "outputs": [],
   "source": [
    "odd_numbers = list(range(1,30,2))"
   ]
  },
  {
   "cell_type": "code",
   "execution_count": 30,
   "metadata": {},
   "outputs": [
    {
     "name": "stdout",
     "output_type": "stream",
     "text": [
      "[1, 3, 5, 7, 9, 11, 13, 15, 17, 19, 21, 23, 25, 27, 29]\n"
     ]
    }
   ],
   "source": [
    "print(odd_numbers)"
   ]
  },
  {
   "cell_type": "code",
   "execution_count": null,
   "metadata": {},
   "outputs": [],
   "source": []
  }
 ],
 "metadata": {
  "kernelspec": {
   "display_name": "Python 3",
   "language": "python",
   "name": "python3"
  },
  "language_info": {
   "codemirror_mode": {
    "name": "ipython",
    "version": 3
   },
   "file_extension": ".py",
   "mimetype": "text/x-python",
   "name": "python",
   "nbconvert_exporter": "python",
   "pygments_lexer": "ipython3",
   "version": "3.7.6"
  }
 },
 "nbformat": 4,
 "nbformat_minor": 4
}
