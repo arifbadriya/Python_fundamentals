{
 "cells": [
  {
   "cell_type": "code",
   "execution_count": null,
   "metadata": {},
   "outputs": [],
   "source": [
    "Introduction to constructors:-"
   ]
  },
  {
   "cell_type": "code",
   "execution_count": null,
   "metadata": {},
   "outputs": [],
   "source": [
    "Overview: It is also called as a special method or magical method. It is utilized for initializing the attributes."
   ]
  },
  {
   "cell_type": "code",
   "execution_count": null,
   "metadata": {},
   "outputs": [],
   "source": [
    "# How to define constructor\n",
    "\n",
    "def __init__  # double underscore without gap"
   ]
  },
  {
   "cell_type": "code",
   "execution_count": null,
   "metadata": {},
   "outputs": [],
   "source": [
    "# Scenario : Create a dog class and add below methods to the dog. \n",
    "\n",
    "#1. define a constructor and give name and age parameters to it.\n",
    "#2. sit\n",
    "#3. jump\n",
    "#4. rollover\n",
    "#5. details"
   ]
  },
  {
   "cell_type": "code",
   "execution_count": 9,
   "metadata": {},
   "outputs": [],
   "source": [
    "class dog:\n",
    "    \"\"\" Creating a dog class\"\"\"\n",
    "    def __init__(self,name,age):\n",
    "        self.name = name\n",
    "        self.age = age\n",
    "        print(\"This got automatically executed\")\n",
    "        \n",
    "    def sit(self):\n",
    "        print(f\" {self.name} is now sitting on the command\")\n",
    "        \n",
    "    def jump(self):\n",
    "        print(f\" {self.name} is now jumping on the command\")\n",
    "        \n",
    "    def rollover(self):\n",
    "        print(f\" {self.name} is now rolling over\")\n",
    "    \n",
    "    def details(self):\n",
    "        print(f\" I have a dog called {self.name}\")\n",
    "        print(f\" my {self.name} is {self.age} years old\")      \n",
    "        "
   ]
  },
  {
   "cell_type": "code",
   "execution_count": 10,
   "metadata": {},
   "outputs": [
    {
     "name": "stdout",
     "output_type": "stream",
     "text": [
      "This got automatically executed\n"
     ]
    }
   ],
   "source": [
    "test = dog('scooby',2)"
   ]
  },
  {
   "cell_type": "code",
   "execution_count": 11,
   "metadata": {},
   "outputs": [
    {
     "name": "stdout",
     "output_type": "stream",
     "text": [
      " scooby is now sitting on the command\n"
     ]
    }
   ],
   "source": [
    "test.sit()"
   ]
  },
  {
   "cell_type": "code",
   "execution_count": 12,
   "metadata": {},
   "outputs": [
    {
     "name": "stdout",
     "output_type": "stream",
     "text": [
      " scooby is now jumping on the command\n"
     ]
    }
   ],
   "source": [
    "test.jump()"
   ]
  },
  {
   "cell_type": "code",
   "execution_count": 13,
   "metadata": {},
   "outputs": [
    {
     "name": "stdout",
     "output_type": "stream",
     "text": [
      " scooby is now rolling over\n"
     ]
    }
   ],
   "source": [
    "test.rollover()"
   ]
  },
  {
   "cell_type": "code",
   "execution_count": 14,
   "metadata": {},
   "outputs": [
    {
     "name": "stdout",
     "output_type": "stream",
     "text": [
      " I have a dog called scooby\n",
      " my scooby is 2 years old\n"
     ]
    }
   ],
   "source": [
    "test.details()"
   ]
  },
  {
   "cell_type": "code",
   "execution_count": null,
   "metadata": {},
   "outputs": [],
   "source": []
  }
 ],
 "metadata": {
  "kernelspec": {
   "display_name": "Python 3",
   "language": "python",
   "name": "python3"
  },
  "language_info": {
   "codemirror_mode": {
    "name": "ipython",
    "version": 3
   },
   "file_extension": ".py",
   "mimetype": "text/x-python",
   "name": "python",
   "nbconvert_exporter": "python",
   "pygments_lexer": "ipython3",
   "version": "3.7.6"
  }
 },
 "nbformat": 4,
 "nbformat_minor": 4
}
