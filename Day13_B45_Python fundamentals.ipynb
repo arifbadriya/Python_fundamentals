{
 "cells": [
  {
   "cell_type": "code",
   "execution_count": null,
   "metadata": {},
   "outputs": [],
   "source": [
    "Introduction to python classes :-"
   ]
  },
  {
   "cell_type": "code",
   "execution_count": null,
   "metadata": {},
   "outputs": [],
   "source": [
    "Class : A class is high level blue print of the program. Class is the keyword used to define it. \n",
    "    We have to use title case for defining classes.\n",
    "\n",
    "Methods : A function written inside the class is called as a method.\n",
    "    \n",
    "Attributes : A variable written inside a class is called as attributes.\n",
    "    \n",
    "Self : A self is a temporary place holder for an object.\n",
    "    \n",
    "Object/Instances : An object is an entry point to access the class method."
   ]
  },
  {
   "cell_type": "code",
   "execution_count": null,
   "metadata": {},
   "outputs": [],
   "source": [
    "# req: Create a greeting class and have the below methods inside in it.\n",
    "1. Create user --> It needs to accept input from user.\n",
    "2. display user --> It needs to display the username.\n",
    "3. greet_user --> I needs to greet the user."
   ]
  },
  {
   "cell_type": "code",
   "execution_count": 53,
   "metadata": {},
   "outputs": [],
   "source": [
    "class greet:   # class\n",
    "    \n",
    "    \"\"\"Creating a greeting program inside class\"\"\"\n",
    "    def create_user(self,username,*age):  # method name\n",
    "        self.username = username    # attribute\n",
    "        self.age = age   # This is the format we have to remember.\n",
    "        \n",
    "    def display_user(self):  # method\n",
    "        print(self.username)\n",
    "        \n",
    "    def greet_user(self):  # method\n",
    "        print(f\" Hello, {self.username}. \\n You are {self.age} year old\")"
   ]
  },
  {
   "cell_type": "code",
   "execution_count": 54,
   "metadata": {},
   "outputs": [
    {
     "name": "stdout",
     "output_type": "stream",
     "text": [
      "john\n"
     ]
    }
   ],
   "source": [
    "test = greet()  # Object assignment to the class.\n",
    "test.create_user('john', 30)\n",
    "test.display_user()"
   ]
  },
  {
   "cell_type": "code",
   "execution_count": 55,
   "metadata": {},
   "outputs": [
    {
     "name": "stdout",
     "output_type": "stream",
     "text": [
      " Hello, john. \n",
      " You are 30 year old\n"
     ]
    }
   ],
   "source": [
    "test.greet_user()"
   ]
  },
  {
   "cell_type": "code",
   "execution_count": null,
   "metadata": {},
   "outputs": [],
   "source": []
  },
  {
   "cell_type": "code",
   "execution_count": 52,
   "metadata": {},
   "outputs": [
    {
     "name": "stdout",
     "output_type": "stream",
     "text": [
      "vanaja\n"
     ]
    }
   ],
   "source": [
    "x = greet()  # Object assignment to the class.\n",
    "x.create_user('vanaja')\n",
    "x.display_user()"
   ]
  },
  {
   "cell_type": "code",
   "execution_count": null,
   "metadata": {},
   "outputs": [],
   "source": [
    "Note : We can assign 'n' number of objects to the classes."
   ]
  },
  {
   "cell_type": "code",
   "execution_count": null,
   "metadata": {},
   "outputs": [],
   "source": []
  },
  {
   "cell_type": "code",
   "execution_count": null,
   "metadata": {},
   "outputs": [],
   "source": []
  },
  {
   "cell_type": "code",
   "execution_count": null,
   "metadata": {},
   "outputs": [],
   "source": []
  }
 ],
 "metadata": {
  "kernelspec": {
   "display_name": "Python 3",
   "language": "python",
   "name": "python3"
  },
  "language_info": {
   "codemirror_mode": {
    "name": "ipython",
    "version": 3
   },
   "file_extension": ".py",
   "mimetype": "text/x-python",
   "name": "python",
   "nbconvert_exporter": "python",
   "pygments_lexer": "ipython3",
   "version": "3.7.6"
  }
 },
 "nbformat": 4,
 "nbformat_minor": 4
}
